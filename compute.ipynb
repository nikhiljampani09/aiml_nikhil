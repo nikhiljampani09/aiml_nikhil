{
 "cells": [
  {
   "cell_type": "code",
   "execution_count": 5,
   "id": "69dbf125-666c-4c2d-8085-235869832ee4",
   "metadata": {},
   "outputs": [],
   "source": [
    "greet = lambda name : print(f\"Good Morning {name}\")"
   ]
  },
  {
   "cell_type": "code",
   "execution_count": 7,
   "id": "5e27f6a9-c01b-4750-b45f-0fe3dc3de0dd",
   "metadata": {},
   "outputs": [
    {
     "name": "stdout",
     "output_type": "stream",
     "text": [
      "Good Morning MOK\n"
     ]
    }
   ],
   "source": [
    "greet(\"MOK\")"
   ]
  },
  {
   "cell_type": "code",
   "execution_count": 9,
   "id": "278ad6a4-f9ea-4c89-95ae-f0f2312dc9cd",
   "metadata": {},
   "outputs": [
    {
     "name": "stdin",
     "output_type": "stream",
     "text": [
      "Enter first number:  12\n",
      "Enter second number:  23\n",
      "Enter third number:  99\n"
     ]
    },
    {
     "name": "stdout",
     "output_type": "stream",
     "text": [
      "The average of numbers = 44.67\n"
     ]
    }
   ],
   "source": [
    "\n",
    "avg = (lambda num1, num2, num3: (num1 + num2 + num3) / 3)\n",
    "num1 = float(input('Enter first number: '))\n",
    "num2 = float(input('Enter second number: '))\n",
    "num3 = float(input('Enter third number: '))\n",
    "average = avg(num1, num2, num3)\n",
    "print('The average of numbers = %0.2f' % average)"
   ]
  },
  {
   "cell_type": "code",
   "execution_count": 13,
   "id": "0e997104-61df-4c20-b60d-279a78c6e382",
   "metadata": {},
   "outputs": [
    {
     "name": "stdout",
     "output_type": "stream",
     "text": [
      "The product of the numbers is: 24\n"
     ]
    }
   ],
   "source": [
    "\n",
    "product = lambda x, y, z: x * y * z\n",
    "result = product(2, 3, 4)\n",
    "print(\"The product of the numbers is:\", result)"
   ]
  },
  {
   "cell_type": "code",
   "execution_count": 15,
   "id": "656a6b4c-14da-4c06-9f70-ee62c84f4bfb",
   "metadata": {},
   "outputs": [],
   "source": [
    "even  = lambda L : [x for x in L if x%2 == 0]"
   ]
  },
  {
   "cell_type": "code",
   "execution_count": 17,
   "id": "d35bc73a-cc82-4e85-bd41-95875e64cecf",
   "metadata": {},
   "outputs": [
    {
     "data": {
      "text/plain": [
       "[100, 38, 56, 20]"
      ]
     },
     "execution_count": 17,
     "metadata": {},
     "output_type": "execute_result"
    }
   ],
   "source": [
    "my_list = [100,3,9,38,43,56,20]\n",
    "even(my_list)"
   ]
  },
  {
   "cell_type": "code",
   "execution_count": 19,
   "id": "889f17e6-a1fe-4d48-9d95-22f8a837934f",
   "metadata": {},
   "outputs": [],
   "source": [
    "def mean_value(*n):\n",
    "    sum = 0\n",
    "    counter = 0\n",
    "    for x in n:\n",
    "        counter = counter +1\n",
    "        sum += x\n",
    "    mean = sum /counter\n",
    "    return mean\n"
   ]
  },
  {
   "cell_type": "code",
   "execution_count": 21,
   "id": "4b8c69da-a09e-4a60-8dd4-57f665652325",
   "metadata": {},
   "outputs": [],
   "source": [
    "def product(*n):\n",
    "    result = 1\n",
    "    for i in range(len(n)):\n",
    "        result *= n[i]\n",
    "    return result\n"
   ]
  },
  {
   "cell_type": "code",
   "execution_count": 23,
   "id": "4c69d809-e32d-47aa-86d1-d806378f6464",
   "metadata": {},
   "outputs": [
    {
     "data": {
      "text/plain": [
       "72"
      ]
     },
     "execution_count": 23,
     "metadata": {},
     "output_type": "execute_result"
    }
   ],
   "source": [
    "product(2,4,9)"
   ]
  },
  {
   "cell_type": "code",
   "execution_count": null,
   "id": "faecad0e-7422-4756-98ef-de4852d97d4c",
   "metadata": {},
   "outputs": [],
   "source": []
  }
 ],
 "metadata": {
  "kernelspec": {
   "display_name": "Python [conda env:base] *",
   "language": "python",
   "name": "conda-base-py"
  },
  "language_info": {
   "codemirror_mode": {
    "name": "ipython",
    "version": 3
   },
   "file_extension": ".py",
   "mimetype": "text/x-python",
   "name": "python",
   "nbconvert_exporter": "python",
   "pygments_lexer": "ipython3",
   "version": "3.12.7"
  }
 },
 "nbformat": 4,
 "nbformat_minor": 5
}
