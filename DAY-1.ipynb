{
 "cells": [
  {
   "cell_type": "code",
   "execution_count": null,
   "id": "300bc27e-1e70-4aa8-92ec-ab0f6cf57525",
   "metadata": {},
   "outputs": [],
   "source": []
  },
  {
   "cell_type": "code",
   "execution_count": 11,
   "id": "11625ec8-fbba-4610-8b3b-e89df6524199",
   "metadata": {},
   "outputs": [
    {
     "name": "stdout",
     "output_type": "stream",
     "text": [
      "[['apple', 10], ['banana', 5], ['cherry', 10], ['dragon', 6], ['grapes', 9], ['apple', 15]]\n",
      "[['apple', 10], ['banana', 5], ['cherry', 10], ['dragon', 6], ['grapes', 9], ['apple', 15], ['apple', 15]]\n",
      "[10, 15, 15]\n",
      "40\n"
     ]
    }
   ],
   "source": [
    "orders = [[\"apple\",10],[\"banana\",5],[\"cherry\",7],[\"dragon\",6],[\"grapes\",9],[\"apple\",15]]\n",
    "\n",
    "for each in orders:\n",
    "    if each[0] == \"cherry\":\n",
    "        each[1] =10\n",
    "print(orders)\n",
    "orders.append([\"apple\",15])\n",
    "print(orders)\n",
    "\n",
    "total = []\n",
    "for each_item in orders:\n",
    "    if each_item[0] == \"apple\":\n",
    "        total.append(each_item[1])\n",
    "print(total)\n",
    "print(sum(total))"
   ]
  },
  {
   "cell_type": "code",
   "execution_count": null,
   "id": "42c5e035-2cc9-473d-b48b-ff362b5fdb17",
   "metadata": {},
   "outputs": [],
   "source": []
  }
 ],
 "metadata": {
  "kernelspec": {
   "display_name": "Python [conda env:base] *",
   "language": "python",
   "name": "conda-base-py"
  },
  "language_info": {
   "codemirror_mode": {
    "name": "ipython",
    "version": 3
   },
   "file_extension": ".py",
   "mimetype": "text/x-python",
   "name": "python",
   "nbconvert_exporter": "python",
   "pygments_lexer": "ipython3",
   "version": "3.12.7"
  }
 },
 "nbformat": 4,
 "nbformat_minor": 5
}
